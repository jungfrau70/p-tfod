{
 "cells": [
  {
   "cell_type": "code",
   "execution_count": 3,
   "id": "6606d5fb-403d-4360-9b23-2f240f071a9a",
   "metadata": {},
   "outputs": [],
   "source": [
    "# %load apple.py\n",
    "import cv2\n",
    "from time import sleep\n",
    "\n",
    "img_color = cv2.imread('apple.jpg', cv2.IMREAD_COLOR)\n",
    "\n",
    "# cv2.namedWindow('Show Image')\n",
    "cv2.imshow('Show Color Image', img_color)\n",
    "cv2.waiabtKey(0)\n",
    "\n",
    "img_gray = cv2.cvtColor(img_color, cv2.COLOR_BGR2GRAY)\n",
    "\n",
    "cv2.imshow('Show Gray Image', img_gray)\n",
    "cv2.waitKey(0)\n",
    "\n",
    "cv2.destroyAllWindows()"
   ]
  },
  {
   "cell_type": "markdown",
   "id": "3c2289d5-4f04-465e-8fa1-f575b181875d",
   "metadata": {},
   "source": [
    "# 한장 Capture"
   ]
  },
  {
   "cell_type": "code",
   "execution_count": 4,
   "id": "0b479237-7f37-4247-82db-99cba09345bf",
   "metadata": {},
   "outputs": [],
   "source": [
    "import cv2\n",
    "\n",
    "cap = cv2.VideoCapture(0)\n",
    "\n",
    "ret, img_color = cap.read()\n",
    "\n",
    "cv2.imshow(\"Color\", img_color)\n",
    "\n",
    "cv2.waitKey(0)\n",
    "\n",
    "cap.release()\n",
    "cv2.destroyAllWindows()"
   ]
  },
  {
   "cell_type": "markdown",
   "id": "2d07ff36-15f9-453a-8126-ff3d0a1fbb34",
   "metadata": {},
   "source": [
    "# Video Capture"
   ]
  },
  {
   "cell_type": "code",
   "execution_count": 7,
   "id": "589af04d-817f-47e3-9bfd-e41d6d2f064b",
   "metadata": {},
   "outputs": [],
   "source": [
    "import cv2\n",
    "\n",
    "cap = cv2.VideoCapture(0)\n",
    "\n",
    "while True:\n",
    "    \n",
    "    ret, img_color = cap.read()\n",
    "    \n",
    "    if ret == False:\n",
    "        continue\n",
    "\n",
    "        \n",
    "    img_gray = cv2.cvtColor(img_color, cv2.COLOR_BGR2GRAY)\n",
    "    \n",
    "        \n",
    "    cv2.imshow(\"Color\", img_color)\n",
    "    cv2.imshow(\"Gray\", img_gray)\n",
    "    \n",
    "    if cv2.waitKey(1)&0xFF ==27:\n",
    "        break\n",
    "\n",
    "cap.release()\n",
    "cv2.destroyAllWindows()"
   ]
  },
  {
   "cell_type": "markdown",
   "id": "c1edcc17-34cc-4121-9376-c0fd2d20a7de",
   "metadata": {},
   "source": [
    "# 파일로 저장하기"
   ]
  },
  {
   "cell_type": "code",
   "execution_count": 8,
   "id": "312e2d69-3210-4f6b-9551-bdab7134c644",
   "metadata": {},
   "outputs": [],
   "source": [
    "import cv2\n",
    "\n",
    "cap = cv2.VideoCapture(0)\n",
    "\n",
    "fourcc = cv2.VideoWriter_fourcc(*'XVID')\n",
    "writer = cv2.VideoWriter('output.avi', fourcc, 20.0, (640, 480))\n",
    "\n",
    "while True:\n",
    "    \n",
    "    ret, img_color = cap.read()\n",
    "    \n",
    "    if ret == False:\n",
    "        continue\n",
    "\n",
    "        \n",
    "    img_gray = cv2.cvtColor(img_color, cv2.COLOR_BGR2GRAY)\n",
    "    \n",
    "        \n",
    "    cv2.imshow(\"Color\", img_color)\n",
    "    cv2.imshow(\"Gray\", img_gray)\n",
    "    \n",
    "    writer.write(img_color)\n",
    "    \n",
    "    if cv2.waitKey(1)&0xFF ==27:\n",
    "        break\n",
    "\n",
    "cap.release()\n",
    "writer.release()\n",
    "cv2.destroyAllWindows()"
   ]
  },
  {
   "cell_type": "markdown",
   "id": "ae44716e-1429-432d-83ae-23aa40919b7e",
   "metadata": {},
   "source": [
    "# 재생하기"
   ]
  },
  {
   "cell_type": "code",
   "execution_count": null,
   "id": "f9fe1923-be70-49d3-84de-361966910c22",
   "metadata": {},
   "outputs": [],
   "source": [
    "import cv2\n",
    "\n",
    "cap = cv2.VideoCapture('output.avi')\n",
    "\n",
    "fourcc = cv2.VideoWriter_fourcc(*'XVID')\n",
    "\n",
    "while True:\n",
    "    \n",
    "    ret, img_color = cap.read()\n",
    "    \n",
    "    if ret == False:\n",
    "        continue\n",
    "\n",
    "        \n",
    "    img_gray = cv2.cvtColor(img_color, cv2.COLOR_BGR2GRAY)\n",
    "    \n",
    "        \n",
    "    cv2.imshow(\"Color\", img_color)\n",
    "    cv2.imshow(\"Gray\", img_gray)\n",
    "    \n",
    "    if cv2.waitKey(1)&0xFF ==27:\n",
    "        break\n",
    "\n",
    "cap.release()\n",
    "cv2.destroyAllWindows()"
   ]
  },
  {
   "cell_type": "code",
   "execution_count": null,
   "id": "ddd62a97-7cad-414a-a9b9-1f449c5c3c94",
   "metadata": {},
   "outputs": [],
   "source": []
  }
 ],
 "metadata": {
  "kernelspec": {
   "display_name": "Python 3 (ipykernel)",
   "language": "python",
   "name": "python3"
  },
  "language_info": {
   "codemirror_mode": {
    "name": "ipython",
    "version": 3
   },
   "file_extension": ".py",
   "mimetype": "text/x-python",
   "name": "python",
   "nbconvert_exporter": "python",
   "pygments_lexer": "ipython3",
   "version": "3.8.9"
  }
 },
 "nbformat": 4,
 "nbformat_minor": 5
}
